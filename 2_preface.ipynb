{
 "cells": [
  {
   "cell_type": "markdown",
   "id": "drawn-prescription",
   "metadata": {},
   "source": [
    "# Preface\n",
    "\n",
    "Python is probably one of the few programming languages which is both simple and powerful. This is good for beginners as well as for experts, and more importantly, is fun to program with. This book aims to help you learn this wonderful language and show how to get things done quickly and painlessly - in effect 'The Anti-venom to your programming problems'.\n",
    "\n",
    "## Who This Book Is For\n",
    "\n",
    "This book serves as a guide or tutorial to the Python programming language. It is mainly targeted at newbies. It is useful for experienced programmers as well.\n",
    "\n",
    "The aim is that if all you know about computers is how to save text files, then you can learn Python from this book. If you have previous programming experience, then you can also learn Python from this book.\n",
    "\n",
    "If you do have previous programming experience, you will be interested in the differences between Python and your favorite programming language - I have highlighted many such differences. A little warning though, Python is soon going to become your favorite programming language!\n",
    "\n",
    "## Official Website\n",
    "\n",
    "The official website of the book is {{ book.officialUrl }} where you can read the whole book online, download the latest versions of the book, [buy a printed hard copy]({{ book.buyBookUrl }}) and also send me feedback.\n",
    "\n",
    "## Something To Think About\n",
    "\n",
    "> There are two ways of constructing a software design: one way is to make it so simple that there are obviously no deficiencies; the other is to make it so complicated that there are no obvious deficiencies. -- C. A. R. Hoare\n",
    "\n",
    "<!-- -->\n",
    "\n",
    "> Success in life is a matter not so much of talent and opportunity as of concentration and perseverance. -- C. W. Wendte"
   ]
  }
 ],
 "metadata": {},
 "nbformat": 4,
 "nbformat_minor": 5
}
