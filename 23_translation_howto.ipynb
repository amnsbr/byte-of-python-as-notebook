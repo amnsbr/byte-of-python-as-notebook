{
 "cells": [
  {
   "cell_type": "markdown",
   "id": "generous-playlist",
   "metadata": {},
   "source": [
    "# Translation How-to {#translation-howto}\n",
    "\n",
    "1. The full source of the book is available from {{ book.sourceUrl }}.\n",
    "2. Please [fork the repository](https://help.github.com/articles/fork-a-repo).\n",
    "3. Then, fetch the repository to your computer. You need to know how to use [Git](http://www.git-scm.com) to do that.\n",
    "4. Read the [Honkit documentation](https://honkit.netlify.app), esp. the [Markdown section](https://honkit.netlify.app/syntax/markdown.html).\n",
    "5. Start editing the `.md` files to translate to your local language.\n",
    "6. See [INSTALL.md](https://github.com/swaroopch/byte-of-python/blob/master/INSTALL.md) on how to generate the website, PDF, EPUB."
   ]
  }
 ],
 "metadata": {},
 "nbformat": 4,
 "nbformat_minor": 5
}
