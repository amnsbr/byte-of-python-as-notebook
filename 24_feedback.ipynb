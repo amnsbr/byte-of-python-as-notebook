{
 "cells": [
  {
   "cell_type": "markdown",
   "id": "finite-watson",
   "metadata": {},
   "source": [
    "# Feedback\n",
    "\n",
    "The book needs the help of its readers such as yourselves to point out any parts of the book which are not good, not comprehensible or are simply wrong. Please [write to the main author]({{ book.contactUrl }}) or the respective [translators](./translations.md#translations) with your comments and suggestions."
   ]
  }
 ],
 "metadata": {},
 "nbformat": 4,
 "nbformat_minor": 5
}
