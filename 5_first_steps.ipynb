{
 "cells": [
  {
   "cell_type": "markdown",
   "metadata": {
    "slideshow": {
     "slide_type": "slide"
    }
   },
   "source": [
    "# First Steps\n",
    "\n",
    "We will now see how to run a traditional 'Hello World' program in Python. This will teach you how to write, save and run Python programs.\n",
    "\n",
    "There are two ways of using Python to run your program - using the interactive interpreter prompt or using a source file. We will now see how to use both of these methods."
   ]
  },
  {
   "cell_type": "markdown",
   "metadata": {
    "slideshow": {
     "slide_type": "slide"
    }
   },
   "source": [
    "## Using The Interpreter Prompt\n",
    "\n",
    "Open the terminal in your operating system (as discussed previously in the [Installation](./installation.md#installation) chapter) and then open the Python prompt by typing `python3` and pressing `[enter]` key.\n",
    "\n",
    "Once you have started Python, you should see `>>>` where you can start typing stuff. This is called the _Python interpreter prompt_.\n",
    "\n",
    "At the Python interpreter prompt, type:"
   ]
  },
  {
   "cell_type": "code",
   "execution_count": null,
   "metadata": {
    "slideshow": {
     "slide_type": "fragment"
    }
   },
   "outputs": [],
   "source": [
    "print(\"Hello World\")"
   ]
  },
  {
   "cell_type": "markdown",
   "metadata": {
    "slideshow": {
     "slide_type": "fragment"
    }
   },
   "source": [
    "followed by the `[enter]` key. You should see the words `Hello World` printed to the screen."
   ]
  },
  {
   "cell_type": "markdown",
   "metadata": {
    "slideshow": {
     "slide_type": "slide"
    }
   },
   "source": [
    "Here is an example of what you should be seeing, when using a Mac OS X computer. The details about the Python software will differ based on your computer, but the part from the prompt (i.e. from `>>>` onwards) should be the same regardless of the operating system.\n",
    "\n",
    "<!-- The output should match pythonVersion variable in book.json -->"
   ]
  },
  {
   "cell_type": "code",
   "execution_count": null,
   "metadata": {
    "slideshow": {
     "slide_type": "fragment"
    }
   },
   "outputs": [],
   "source": [
    "$ python3\n",
    "Python 3.6.0 (default, Jan 12 2017, 11:26:36)\n",
    "[GCC 4.2.1 Compatible Apple LLVM 8.0.0 (clang-800.0.38)] on darwin\n",
    "Type \"help\", \"copyright\", \"credits\" or \"license\" for more information.\n",
    ">>> print(\"Hello World\")\n",
    "Hello World"
   ]
  },
  {
   "cell_type": "markdown",
   "metadata": {
    "slideshow": {
     "slide_type": "fragment"
    }
   },
   "source": [
    "Notice that Python gives you the output of the line immediately! What you just entered is a single Python _statement_. We use `print` to (unsurprisingly) print any value that you supply to it. Here, we are supplying the text `Hello World` and this is promptly printed to the screen."
   ]
  },
  {
   "cell_type": "markdown",
   "metadata": {
    "slideshow": {
     "slide_type": "slide"
    }
   },
   "source": [
    "### How to Quit the Interpreter Prompt\n",
    "\n",
    "If you are using a GNU/Linux or OS X shell, you can exit the interpreter prompt by pressing `[ctrl + d]` or entering `exit()` (note: remember to include the parentheses, `()`) followed by the `[enter]` key.\n",
    "\n",
    "If you are using the Windows command prompt, press `[ctrl + z]` followed by the `[enter]` key."
   ]
  },
  {
   "cell_type": "markdown",
   "metadata": {
    "slideshow": {
     "slide_type": "slide"
    }
   },
   "source": [
    "## Choosing An Editor\n",
    "\n",
    "We cannot type out our program at the interpreter prompt every time we want to run something, so we have to save them in files and can run our programs any number of times.\n",
    "\n",
    "To create our Python source files, we need an editor software where you can type and save. A good programmer's editor will make your life easier in writing the source files. Hence, the choice of an editor is crucial indeed. You have to choose an editor as you would choose a car you would buy. A good editor will help you write Python programs easily, making your journey more comfortable and helps you reach your destination (achieve your goal) in a much faster and safer way.\n",
    "\n",
    "One of the very basic requirements is _syntax highlighting_ where all the different parts of your Python program are colorized so that you can _see_ your program and visualize its running.\n",
    "\n",
    "If you have no idea where to start, I would recommend using [PyCharm Educational Edition](https://www.jetbrains.com/pycharm-edu/) software which is available on Windows, Mac OS X and GNU/Linux. Details in the next section."
   ]
  },
  {
   "cell_type": "markdown",
   "metadata": {
    "slideshow": {
     "slide_type": "slide"
    }
   },
   "source": [
    "If you are using Windows, *do not use Notepad* - it is a bad choice because it does not do syntax highlighting and also importantly it does not support indentation of the text which is very important in our case as we will see later. Good editors will automatically do this.\n",
    "\n",
    "If you are an experienced programmer, then you must be already using [Vim](http://www.vim.org) or [Emacs](http://www.gnu.org/software/emacs/). Needless to say, these are two of the most powerful editors and you will benefit from using them to write your Python programs. I personally use both for most of my programs, and have even written an [entire book on Vim]({{ book.vimBookUrl }}).\n",
    "\n",
    "In case you are willing to take the time to learn Vim or Emacs, then I highly recommend that you do learn to use either of them as it will be very useful for you in the long run. However, as I mentioned before, beginners can start with PyCharm and focus the learning on Python rather than the editor at this moment.\n",
    "\n",
    "To reiterate, please choose a proper editor - it can make writing Python programs more fun and easy."
   ]
  },
  {
   "cell_type": "markdown",
   "metadata": {
    "slideshow": {
     "slide_type": "slide"
    }
   },
   "source": [
    "## Using A Source File\n",
    "\n",
    "Now let's get back to programming. There is a tradition that whenever you learn a new programming language, the first program that you write and run is the 'Hello World' program - all it does is just say 'Hello World' when you run it. As Simon Cozens[^1] says, it is the \"traditional incantation to the programming gods to help you learn the language better.\"\n",
    "\n",
    "Start your choice of editor, enter the following program and save it as `hello.py`.\n",
    "\n",
    "If you are using PyCharm, we have already [discussed how to run from a source file](#pycharm).\n",
    "\n",
    "For other editors, open a new file `hello.py` and type this:"
   ]
  },
  {
   "cell_type": "code",
   "execution_count": null,
   "metadata": {
    "slideshow": {
     "slide_type": "fragment"
    }
   },
   "outputs": [],
   "source": [
    "print(\"hello world\")"
   ]
  },
  {
   "cell_type": "markdown",
   "metadata": {
    "slideshow": {
     "slide_type": "slide"
    }
   },
   "source": [
    "Where should you save the file? To any folder for which you know the location of the folder. If you\n",
    "don't understand what that means, create a new folder and use that location to save and run all\n",
    "your Python programs:\n",
    "\n",
    "- `/tmp/py` on Mac OS X\n",
    "- `/tmp/py` on GNU/Linux\n",
    "- `C:\\py` on Windows\n",
    "\n",
    "To create the above folder (for the operating system you are using), use the `mkdir` command in the terminal, for example, `mkdir /tmp/py`."
   ]
  },
  {
   "cell_type": "markdown",
   "metadata": {
    "slideshow": {
     "slide_type": "slide"
    }
   },
   "source": [
    "IMPORTANT: Always ensure that you give it the file extension of `.py`, for example, `foo.py`.\n",
    "\n",
    "To run your Python program:\n",
    "\n",
    "1. Open a terminal window (see the previous [Installation](./installation.md#installation) chapter on how to do that)\n",
    "2. **C**hange **d**irectory to where you saved the file, for example, `cd /tmp/py`\n",
    "3. Run the program by entering the command `python hello.py`. The output is as shown below."
   ]
  },
  {
   "cell_type": "code",
   "execution_count": null,
   "metadata": {
    "slideshow": {
     "slide_type": "fragment"
    }
   },
   "outputs": [],
   "source": [
    "$ python hello.py\n",
    "hello world"
   ]
  },
  {
   "cell_type": "markdown",
   "metadata": {
    "slideshow": {
     "slide_type": "slide"
    }
   },
   "source": [
    "# Online help, help(), and dir()\n",
    "There are a variety of ways to get help for Python.\n",
    "\n",
    "- Do a Google search, starting with the word \"python\", like \"python list\" or \"python string lowercase\". The first hit is often the answer. This technique seems to work better for Python than it does for other languages for some reason.\n",
    "- The official Python docs site — docs.python.org — has high quality docs. Nonetheless, I often find a Google search of a couple words to be quicker.\n",
    "- There is also an official Tutor mailing list specifically designed for those who are new to Python and/or programming!\n",
    "- Many questions (and answers) can be found on StackOverflow and Quora.\n",
    "- Use the help() and dir() functions: Inside the Python interpreter, the help() function pulls up documentation strings for various modules, functions, and methods. These doc strings are similar to Java's javadoc. The dir() function tells you what the attributes of an object are."
   ]
  }
 ],
 "metadata": {
  "celltoolbar": "Slideshow",
  "kernelspec": {
   "display_name": "Python 3",
   "language": "python",
   "name": "python3"
  },
  "language_info": {
   "codemirror_mode": {
    "name": "ipython",
    "version": 3
   },
   "file_extension": ".py",
   "mimetype": "text/x-python",
   "name": "python",
   "nbconvert_exporter": "python",
   "pygments_lexer": "ipython3",
   "version": "3.7.3"
  }
 },
 "nbformat": 4,
 "nbformat_minor": 5
}
